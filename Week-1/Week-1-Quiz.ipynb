{
 "cells": [
  {
   "cell_type": "markdown",
   "metadata": {},
   "source": [
    "# Week One Quiz"
   ]
  },
  {
   "cell_type": "markdown",
   "metadata": {},
   "source": [
    "1. Python is an example of an\n",
    "    * [X] Interpreted language\n",
    "    * [ ] Declarative language\n",
    "    * [ ] Operating system language\n",
    "    * [ ] Data science language\n",
    "    * [ ] Low level language"
   ]
  },
  {
   "cell_type": "markdown",
   "metadata": {},
   "source": [
    "2. Data Science is a\n",
    "    * [ ] Branch of statistics\n",
    "    * [ ] Branch of computer science\n",
    "    * [ ] Branch of artificial intelligence\n",
    "    * [X] Interdisciplinary, made up of all of the above"
   ]
  },
  {
   "cell_type": "markdown",
   "metadata": {},
   "source": [
    "3. Data visualization is not a part of data science.\n",
    "    * [ ] True\n",
    "    * [X] False"
   ]
  },
  {
   "cell_type": "markdown",
   "metadata": {},
   "source": [
    "4. Which bracketing style does Python use for tuples?\n",
    "    * [ ] { }\n",
    "    * [X] ( )\n",
    "    * [ ] [ ]"
   ]
  },
  {
   "cell_type": "markdown",
   "metadata": {},
   "source": [
    "5. In Python, strings are considered Mutable, and can be changed.\n",
    "    * [X] False\n",
    "    * [ ] True"
   ]
  },
  {
   "cell_type": "markdown",
   "metadata": {},
   "source": [
    "6. What is the result of the following code: ['a', 'b', 'c'] + [1, 2, 3]\n",
    "    * [X] ['a', 'b', 'c', 1, 2, 3]\n",
    "    * [ ] TypeError: Cannot convert list(int) to list(str)\n",
    "    * [ ] ['a1', 'b2', 'c3']\n",
    "    * [ ] [['a', 'b', 'c'], [1, 2, 3]]"
   ]
  },
  {
   "cell_type": "markdown",
   "metadata": {},
   "source": [
    "7. String slicing is\n",
    "    * [ ] A way to make string mutable in python\n",
    "    * [ ] A way to reduce the size on disk of strings in python\n",
    "    * [X] A way to make a substring of a string in python"
   ]
  },
  {
   "cell_type": "markdown",
   "metadata": {},
   "source": [
    "8. When you create a lambda, what type is returned? E.g. type(lambda x: x+1) returns\n",
    "    * [X] <class 'function'>\n",
    "    * [ ] <class 'type'>\n",
    "    * [ ] <class 'int'>\n",
    "    * [ ] <class 'lambda'>"
   ]
  },
  {
   "cell_type": "markdown",
   "metadata": {},
   "source": [
    "9. The epoch refers to\n",
    "    * [ ] January 1, year 0\n",
    "    * [X] January 1, year 1970\n",
    "    * [ ] January 1, year 1980\n",
    "    * [ ] January 1, year 2000"
   ]
  },
  {
   "cell_type": "markdown",
   "metadata": {},
   "source": [
    "10. This code, [x**2 for x in range(10)] , is an example of a\n",
    "    * [X] List comprehension\n",
    "    * [ ] Sequence comprehension\n",
    "    * [ ] Tuple comprehension\n",
    "    * [ ] List multiplication"
   ]
  },
  {
   "cell_type": "markdown",
   "metadata": {},
   "source": [
    "11. Given a 6x6 NumPy array r, which of the following options would slice the shaded elements?\n",
    "\n",
    "| &nbsp; | &nbsp; | &nbsp; | &nbsp; | &nbsp; | &nbsp; |\n",
    "|--------|--------|--------|--------|--------|--------|\n",
    "| **0**  | 1      | 2      | 3      | 4      | 5      |\n",
    "| 6      | **7**  | 8      | 9      | 10     | 11     |\n",
    "| 12     | 13     | **14** | 15     | 16     | 17     |\n",
    "| 18     | 19     | 20     | **21** | 22     | 23     |\n",
    "| 24     | 25     | 26     | 27     | **28** | 29     |\n",
    "| 30     | 31     | 32     | 33     | 34     | **35** |\n",
    "\n",
    "    * [ ] `r[::7]`\n",
    "    * [ ] `r[0:6,::-7]`\n",
    "    * [X] `r.reshape(36)[::7]`\n",
    "    * [ ] `r[:,::7]`"
   ]
  },
  {
   "cell_type": "markdown",
   "metadata": {},
   "source": [
    "12. Given a 6x6 NumPy array r, which of the following options would slice the shaded elements?\n",
    "\n",
    "| &nbsp; | &nbsp; | &nbsp; | &nbsp; | &nbsp; | &nbsp; |\n",
    "|--------|--------|--------|--------|--------|--------|\n",
    "| 0      | 1      | 2      | 3      | 4      | 5      |\n",
    "| 6      | 7      | 8      | 9      | 10     | 11     |\n",
    "| 12     | 13     | **14** | **15** | 16     | 17     |\n",
    "| 18     | 19     | **20** | **21** | 22     | 23     |\n",
    "| 24     | 25     | 26     | 27     | 28     | 29     |\n",
    "| 30     | 31     | 32     | 33     | 34     | 35     |\n",
    "\n",
    "    * [X] `r[2:4,2:4]`\n",
    "    * [ ] `r[[2,3],[2,3]]`\n",
    "    * [ ] `r[2::2,2::2]`\n",
    "    * [ ] `r[::2,::2]`"
   ]
  },
  {
   "cell_type": "code",
   "execution_count": null,
   "metadata": {},
   "outputs": [],
   "source": []
  }
 ],
 "metadata": {
  "kernelspec": {
   "display_name": "Python 3",
   "language": "python",
   "name": "python3"
  },
  "language_info": {
   "codemirror_mode": {
    "name": "ipython",
    "version": 3
   },
   "file_extension": ".py",
   "mimetype": "text/x-python",
   "name": "python",
   "nbconvert_exporter": "python",
   "pygments_lexer": "ipython3",
   "version": "3.7.4"
  }
 },
 "nbformat": 4,
 "nbformat_minor": 2
}
